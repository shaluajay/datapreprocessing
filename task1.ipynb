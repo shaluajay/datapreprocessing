{
  "nbformat": 4,
  "nbformat_minor": 0,
  "metadata": {
    "colab": {
      "provenance": []
    },
    "kernelspec": {
      "name": "python3",
      "display_name": "Python 3"
    },
    "language_info": {
      "name": "python"
    }
  },
  "cells": [
    {
      "cell_type": "code",
      "execution_count": null,
      "metadata": {
        "id": "gYXGblhftrfH"
      },
      "outputs": [],
      "source": [
        "import pandas as pd\n"
      ]
    },
    {
      "cell_type": "code",
      "source": [
        "df = pd.read_csv('marketing_campaign.csv', sep='\\t')\n",
        "missing_values = df.isnull().sum()\n",
        "print(missing_values)"
      ],
      "metadata": {
        "colab": {
          "base_uri": "https://localhost:8080/"
        },
        "id": "qU-hGXUavKhU",
        "outputId": "3351af9f-864b-4ce2-c4a1-2fd9246b6d88"
      },
      "execution_count": null,
      "outputs": [
        {
          "output_type": "stream",
          "name": "stdout",
          "text": [
            "ID                      0\n",
            "Year_Birth              0\n",
            "Education               0\n",
            "Marital_Status          0\n",
            "Income                 24\n",
            "Kidhome                 0\n",
            "Teenhome                0\n",
            "Dt_Customer             0\n",
            "Recency                 0\n",
            "MntWines                0\n",
            "MntFruits               0\n",
            "MntMeatProducts         0\n",
            "MntFishProducts         0\n",
            "MntSweetProducts        0\n",
            "MntGoldProds            0\n",
            "NumDealsPurchases       0\n",
            "NumWebPurchases         0\n",
            "NumCatalogPurchases     0\n",
            "NumStorePurchases       0\n",
            "NumWebVisitsMonth       0\n",
            "AcceptedCmp3            0\n",
            "AcceptedCmp4            0\n",
            "AcceptedCmp5            0\n",
            "AcceptedCmp1            0\n",
            "AcceptedCmp2            0\n",
            "Complain                0\n",
            "Z_CostContact           0\n",
            "Z_Revenue               0\n",
            "Response                0\n",
            "dtype: int64\n"
          ]
        }
      ]
    },
    {
      "cell_type": "code",
      "source": [],
      "metadata": {
        "id": "LDxMcW9o0Mcb"
      },
      "execution_count": null,
      "outputs": []
    },
    {
      "cell_type": "code",
      "source": [],
      "metadata": {
        "id": "yWs6KokM0Sbq"
      },
      "execution_count": null,
      "outputs": []
    },
    {
      "cell_type": "code",
      "source": [
        "df_before = len(df)\n",
        "df = df.drop_duplicates()\n",
        "print(f\"Removed {df_before - len(df)} duplicate rows\")"
      ],
      "metadata": {
        "colab": {
          "base_uri": "https://localhost:8080/"
        },
        "id": "Q2z81nHKv23R",
        "outputId": "c376dcf3-80cd-4031-e9f6-6328de35a705"
      },
      "execution_count": null,
      "outputs": [
        {
          "output_type": "stream",
          "name": "stdout",
          "text": [
            "Removed 0 duplicate rows\n"
          ]
        }
      ]
    },
    {
      "cell_type": "code",
      "source": [
        "\n",
        "df['Education'] = df['Education'].replace({\n",
        "    '2n Cycle': 'Master',\n",
        "    'Basic': 'Undergraduate'\n",
        "})\n",
        "df['Marital_Status'] = df['Marital_Status'].replace({\n",
        "    'Alone': 'Single',\n",
        "    'Together': 'Married'\n",
        "})"
      ],
      "metadata": {
        "id": "CGwlBX6vwx5Q"
      },
      "execution_count": null,
      "outputs": []
    },
    {
      "cell_type": "code",
      "source": [
        "df['Dt_Customer'] = pd.to_datetime(df['Dt_Customer'], format='%d-%m-%Y')"
      ],
      "metadata": {
        "id": "oMqh9kxCxAdy"
      },
      "execution_count": null,
      "outputs": []
    },
    {
      "cell_type": "code",
      "source": [
        "df.columns = df.columns.str.lower()"
      ],
      "metadata": {
        "id": "hIy940AxxJLs"
      },
      "execution_count": null,
      "outputs": []
    },
    {
      "cell_type": "code",
      "source": [
        "\n",
        "df['year_birth'] = df['year_birth'].astype(int)\n",
        "df['income'] = df['income'].fillna(df['income'].median()).astype(float)"
      ],
      "metadata": {
        "id": "2zKcy6KSxQuw"
      },
      "execution_count": null,
      "outputs": []
    },
    {
      "cell_type": "code",
      "source": [
        "from datetime import datetime\n",
        "current_year = datetime.now().year\n",
        "df['age'] = current_year - df['year_birth']"
      ],
      "metadata": {
        "id": "3MGkS6-vxdfy"
      },
      "execution_count": null,
      "outputs": []
    },
    {
      "cell_type": "code",
      "source": [
        "df['total_children'] = df['kidhome'] + df['teenhome']"
      ],
      "metadata": {
        "id": "ev4U9wNVxkxU"
      },
      "execution_count": null,
      "outputs": []
    },
    {
      "cell_type": "code",
      "source": [
        "spending_cols = ['mntwines', 'mntfruits', 'mntmeatproducts',\n",
        "                'mntfishproducts', 'mntsweetproducts', 'mntgoldprods']\n",
        "df['total_spending'] = df[spending_cols].sum(axis=1)"
      ],
      "metadata": {
        "id": "H4DQpU_Lxp83"
      },
      "execution_count": null,
      "outputs": []
    },
    {
      "cell_type": "code",
      "source": [
        "purchase_cols = ['numdealspurchases', 'numwebpurchases',\n",
        "                'numcatalogpurchases', 'numstorepurchases']\n",
        "df['total_purchases'] = df[purchase_cols].sum(axis=1)"
      ],
      "metadata": {
        "id": "iC2ZugR_xx9l"
      },
      "execution_count": null,
      "outputs": []
    },
    {
      "cell_type": "code",
      "source": [
        "print(df.dtypes)\n",
        "print(df.isnull().sum())\n",
        "print(df.head())"
      ],
      "metadata": {
        "colab": {
          "base_uri": "https://localhost:8080/"
        },
        "id": "_YV-6aeGx2EH",
        "outputId": "0d73a56f-55ca-42d7-f949-0ab8f0a9d4ef"
      },
      "execution_count": null,
      "outputs": [
        {
          "output_type": "stream",
          "name": "stdout",
          "text": [
            "id                              int64\n",
            "year_birth                      int64\n",
            "education                      object\n",
            "marital_status                 object\n",
            "income                        float64\n",
            "kidhome                         int64\n",
            "teenhome                        int64\n",
            "dt_customer            datetime64[ns]\n",
            "recency                         int64\n",
            "mntwines                        int64\n",
            "mntfruits                       int64\n",
            "mntmeatproducts                 int64\n",
            "mntfishproducts                 int64\n",
            "mntsweetproducts                int64\n",
            "mntgoldprods                    int64\n",
            "numdealspurchases               int64\n",
            "numwebpurchases                 int64\n",
            "numcatalogpurchases             int64\n",
            "numstorepurchases               int64\n",
            "numwebvisitsmonth               int64\n",
            "acceptedcmp3                    int64\n",
            "acceptedcmp4                    int64\n",
            "acceptedcmp5                    int64\n",
            "acceptedcmp1                    int64\n",
            "acceptedcmp2                    int64\n",
            "complain                        int64\n",
            "z_costcontact                   int64\n",
            "z_revenue                       int64\n",
            "response                        int64\n",
            "age                             int64\n",
            "total_children                  int64\n",
            "total_spending                  int64\n",
            "total_purchases                 int64\n",
            "dtype: object\n",
            "id                     0\n",
            "year_birth             0\n",
            "education              0\n",
            "marital_status         0\n",
            "income                 0\n",
            "kidhome                0\n",
            "teenhome               0\n",
            "dt_customer            0\n",
            "recency                0\n",
            "mntwines               0\n",
            "mntfruits              0\n",
            "mntmeatproducts        0\n",
            "mntfishproducts        0\n",
            "mntsweetproducts       0\n",
            "mntgoldprods           0\n",
            "numdealspurchases      0\n",
            "numwebpurchases        0\n",
            "numcatalogpurchases    0\n",
            "numstorepurchases      0\n",
            "numwebvisitsmonth      0\n",
            "acceptedcmp3           0\n",
            "acceptedcmp4           0\n",
            "acceptedcmp5           0\n",
            "acceptedcmp1           0\n",
            "acceptedcmp2           0\n",
            "complain               0\n",
            "z_costcontact          0\n",
            "z_revenue              0\n",
            "response               0\n",
            "age                    0\n",
            "total_children         0\n",
            "total_spending         0\n",
            "total_purchases        0\n",
            "dtype: int64\n",
            "     id  year_birth   education marital_status   income  kidhome  teenhome  \\\n",
            "0  5524        1957  Graduation         Single  58138.0        0         0   \n",
            "1  2174        1954  Graduation         Single  46344.0        1         1   \n",
            "2  4141        1965  Graduation        Married  71613.0        0         0   \n",
            "3  6182        1984  Graduation        Married  26646.0        1         0   \n",
            "4  5324        1981         PhD        Married  58293.0        1         0   \n",
            "\n",
            "  dt_customer  recency  mntwines  ...  acceptedcmp1  acceptedcmp2  complain  \\\n",
            "0  2012-09-04       58       635  ...             0             0         0   \n",
            "1  2014-03-08       38        11  ...             0             0         0   \n",
            "2  2013-08-21       26       426  ...             0             0         0   \n",
            "3  2014-02-10       26        11  ...             0             0         0   \n",
            "4  2014-01-19       94       173  ...             0             0         0   \n",
            "\n",
            "   z_costcontact  z_revenue  response  age  total_children  total_spending  \\\n",
            "0              3         11         1   68               0            1617   \n",
            "1              3         11         0   71               2              27   \n",
            "2              3         11         0   60               0             776   \n",
            "3              3         11         0   41               1              53   \n",
            "4              3         11         0   44               1             422   \n",
            "\n",
            "   total_purchases  \n",
            "0               25  \n",
            "1                6  \n",
            "2               21  \n",
            "3                8  \n",
            "4               19  \n",
            "\n",
            "[5 rows x 33 columns]\n"
          ]
        }
      ]
    },
    {
      "cell_type": "code",
      "source": [
        "df.to_csv('cleaned_marketing_campaign.csv', index=False)"
      ],
      "metadata": {
        "id": "IFxhn1I60WYx"
      },
      "execution_count": null,
      "outputs": []
    }
  ]
}